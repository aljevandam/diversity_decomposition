{
 "cells": [
  {
   "cell_type": "markdown",
   "metadata": {},
   "source": [
    "# This notebook makes the file IPUMS_ind_occ_state_clean.csv from the IPUMS_ind_occ_state.csv file that is produced by div_decomp_Rscript.R"
   ]
  },
  {
   "cell_type": "code",
   "execution_count": 1,
   "metadata": {},
   "outputs": [],
   "source": [
    "import pandas as pd\n",
    "import numpy as np"
   ]
  },
  {
   "cell_type": "code",
   "execution_count": 2,
   "metadata": {},
   "outputs": [],
   "source": [
    "def clean_raw_df(df):\n",
    "#adds digits of ind and occ classifications and removes NA classes \n",
    "\n",
    "\n",
    "\n",
    "#classifications to be found at \n",
    "#for occupations: https://usa.ipums.org/usa-action/variables/OCC1950#description_section\n",
    "#for industries:  https://usa.ipums.org/usa-action/variables/IND1950#description_section\n",
    "#for states:      https://usa.ipums.org/usa-action/variables/stateicp#codes_section\n",
    "\n",
    "    #industry classes to be excluded: \n",
    "    ex_ind_classes = [0] + list(range(946,1000))\n",
    "    \n",
    "    #occupation classes to be excluded:\n",
    "    ex_occ_classes = list(range(979,1000))\n",
    "    \n",
    "    #state classes to be excluded: \n",
    "    ex_state_classes = [83,96,97,99]\n",
    "\n",
    "\n",
    "\n",
    "    #remove NA other miscallaneous occs & inds \n",
    "    df = df[~df['OCC1950'].isin(ex_occ_classes)]         \n",
    "    df = df[~df['IND1950'].isin(ex_ind_classes)]\n",
    "    df = df[~df['STATEICP'].isin(ex_state_classes)]\n",
    "  \n",
    "    df = df.loc[df['PERWT_SUM']>0]\n",
    "            \n",
    "\n",
    "    return df"
   ]
  },
  {
   "cell_type": "code",
   "execution_count": 3,
   "metadata": {},
   "outputs": [],
   "source": [
    "df = pd.read_csv('./IPUMS_ind_occ_state.csv')"
   ]
  },
  {
   "cell_type": "code",
   "execution_count": 4,
   "metadata": {},
   "outputs": [],
   "source": [
    "df2 = clean_raw_df(df)"
   ]
  },
  {
   "cell_type": "code",
   "execution_count": 5,
   "metadata": {},
   "outputs": [],
   "source": [
    "df2.columns = [x.lower() for x in df2.columns]\n",
    "\n",
    "df2 = df2.rename(columns = {'perwt_sum':'pop'})"
   ]
  },
  {
   "cell_type": "code",
   "execution_count": 7,
   "metadata": {},
   "outputs": [],
   "source": [
    "#save totaldf \n",
    "df2.to_csv('./IPUMS_ind_occ_state_clean.csv', index = False)"
   ]
  },
  {
   "cell_type": "code",
   "execution_count": null,
   "metadata": {},
   "outputs": [],
   "source": []
  }
 ],
 "metadata": {
  "anaconda-cloud": {},
  "kernelspec": {
   "display_name": "Python [conda env:gl-env]",
   "language": "python",
   "name": "conda-env-gl-env-py"
  },
  "language_info": {
   "codemirror_mode": {
    "name": "ipython",
    "version": 2
   },
   "file_extension": ".py",
   "mimetype": "text/x-python",
   "name": "python",
   "nbconvert_exporter": "python",
   "pygments_lexer": "ipython2",
   "version": "2.7.12"
  }
 },
 "nbformat": 4,
 "nbformat_minor": 2
}
